{
 "cells": [
  {
   "cell_type": "markdown",
   "metadata": {},
   "source": [
    "# Dummy Net"
   ]
  },
  {
   "cell_type": "markdown",
   "metadata": {},
   "source": [
    "**What will happens when:**\n",
    " - second layer will be initialised with 0\n",
    " - learning_rate will change to 0.1"
   ]
  },
  {
   "cell_type": "code",
   "execution_count": null,
   "metadata": {},
   "outputs": [],
   "source": [
    "%load_ext autoreload\n",
    "%autoreload 2\n",
    "%matplotlib inline"
   ]
  },
  {
   "cell_type": "code",
   "execution_count": null,
   "metadata": {},
   "outputs": [],
   "source": [
    "from utils.data import init_dir\n",
    "import tensorflow as tf\n",
    "import numpy as np\n",
    "import os"
   ]
  },
  {
   "cell_type": "markdown",
   "metadata": {},
   "source": [
    "## Build Net Graph"
   ]
  },
  {
   "cell_type": "code",
   "execution_count": null,
   "metadata": {},
   "outputs": [],
   "source": [
    "graph = tf.Graph()\n",
    "with graph.as_default():\n",
    "    with tf.name_scope('dummy_net_inputs'):\n",
    "        data = tf.placeholder(tf.float32, shape=[None, 3], name='data')\n",
    "        labels = tf.placeholder(tf.float32, shape=[None, 1], name='labels')\n",
    "    \n",
    "    with tf.variable_scope('layer_1'):\n",
    "        w1 = tf.get_variable('w1', initializer=tf.constant_initializer(0), shape=[3,2])\n",
    "        prediction = tf.matmul(data, w1)\n",
    "        tf.summary.histogram('w1_histogram', w1)\n",
    "    \n",
    "    with tf.variable_scope('layer_2'):\n",
    "        w2 = tf.get_variable('w2', initializer=tf.truncated_normal(shape=[2,1], stddev=0.1))\n",
    "        prediction = tf.matmul(prediction, w2)\n",
    "        tf.summary.histogram('w2_histogram', w2)\n",
    "    \n",
    "    with tf.name_scope('loss'):\n",
    "        loss = tf.losses.mean_squared_error(labels, prediction)\n",
    "        tf.summary.scalar('loss_summary', loss)\n",
    "\n",
    "    with tf.name_scope('training'):\n",
    "        train_step = tf.train.GradientDescentOptimizer(learning_rate=0.005).minimize(loss)\n",
    "\n",
    "    initialize_vars = tf.global_variables_initializer()\n",
    "    merge_summaries = tf.summary.merge_all()"
   ]
  },
  {
   "cell_type": "code",
   "execution_count": null,
   "metadata": {},
   "outputs": [],
   "source": [
    "graph.get_all_collection_keys()"
   ]
  },
  {
   "cell_type": "markdown",
   "metadata": {},
   "source": [
    "## Init Model Logging"
   ]
  },
  {
   "cell_type": "code",
   "execution_count": null,
   "metadata": {},
   "outputs": [],
   "source": [
    "from utils.data import init_model_logging\n",
    "base_dir = '/tensorboard_summaries/dummy_net/'\n",
    "\n",
    "logging_meta = init_model_logging(base_dir, 'experiment1', graph=graph, remove_existing=True)"
   ]
  },
  {
   "cell_type": "code",
   "execution_count": null,
   "metadata": {},
   "outputs": [],
   "source": [
    "logging_meta"
   ]
  },
  {
   "cell_type": "markdown",
   "metadata": {},
   "source": [
    "## Run net"
   ]
  },
  {
   "cell_type": "code",
   "execution_count": null,
   "metadata": {
    "scrolled": true
   },
   "outputs": [],
   "source": [
    "config = tf.ConfigProto(allow_soft_placement=True)\n",
    "config.gpu_options.allow_growth = True\n",
    "\n",
    "_data = np.array([[1,2,3]])\n",
    "_labels = np.array([[5]])\n",
    "\n",
    "with tf.Session(graph=graph, config=config) as session:\n",
    "    session.run(initialize_vars)\n",
    "    \n",
    "    for iteration in range(100):\n",
    "        # Prepare data\n",
    "        feed_dict = {data: _data, labels: _labels}\n",
    "        fetches = [train_step, prediction, loss, merge_summaries]\n",
    "\n",
    "        # Train\n",
    "        _, _prediction, _loss, _summary = session.run(fetches, feed_dict)\n",
    "        \n",
    "        # Log\n",
    "        logging_meta['train_writer'].add_summary(_summary, iteration)\n",
    "        print(\"Iteration {}: loss {}, pred {}\".format(iteration, _loss, _prediction[0][0]))\n",
    "\n",
    "    logging_meta['saver'].save(session, logging_meta['model_path'])"
   ]
  }
 ],
 "metadata": {
  "kernelspec": {
   "display_name": "Python 3",
   "language": "python",
   "name": "python3"
  },
  "language_info": {
   "codemirror_mode": {
    "name": "ipython",
    "version": 3
   },
   "file_extension": ".py",
   "mimetype": "text/x-python",
   "name": "python",
   "nbconvert_exporter": "python",
   "pygments_lexer": "ipython3",
   "version": "3.5.2"
  }
 },
 "nbformat": 4,
 "nbformat_minor": 2
}
