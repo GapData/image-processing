{
 "cells": [
  {
   "cell_type": "markdown",
   "metadata": {},
   "source": [
    "# Flat Image Net - Visualize embedding"
   ]
  },
  {
   "cell_type": "code",
   "execution_count": 1,
   "metadata": {},
   "outputs": [],
   "source": [
    "%load_ext autoreload\n",
    "%autoreload 2\n",
    "%matplotlib inline"
   ]
  },
  {
   "cell_type": "code",
   "execution_count": 2,
   "metadata": {},
   "outputs": [],
   "source": [
    "import tensorflow as tf\n",
    "from tensorflow.examples.tutorials.mnist import input_data\n",
    "import numpy as np\n",
    "import os\n",
    "import shutil\n",
    "import pandas as pd\n",
    "import matplotlib.pylab as plt\n",
    "import seaborn as sns\n",
    "from PIL import Image\n",
    "from utils.data import init_dir"
   ]
  },
  {
   "cell_type": "markdown",
   "metadata": {},
   "source": [
    "## Load data"
   ]
  },
  {
   "cell_type": "code",
   "execution_count": 3,
   "metadata": {},
   "outputs": [
    {
     "name": "stdout",
     "output_type": "stream",
     "text": [
      "Extracting /data/fashion/train-images-idx3-ubyte.gz\n",
      "Extracting /data/fashion/train-labels-idx1-ubyte.gz\n",
      "Extracting /data/fashion/t10k-images-idx3-ubyte.gz\n",
      "Extracting /data/fashion/t10k-labels-idx1-ubyte.gz\n"
     ]
    }
   ],
   "source": [
    "data = input_data.read_data_sets('/data/fashion/', one_hot=True)\n",
    "img_shape = (28, 28)\n",
    "class_id2class_name_mapping = {\n",
    "    0: 'T-shirt/top',\n",
    "    1: 'Trouser',\n",
    "    2: 'Pullover',\n",
    "    3: 'Dress',\n",
    "    4: 'Coat',\n",
    "    5: 'Sandal',\n",
    "    6: 'Shirt',\n",
    "    7: 'Sneaker',\n",
    "    8: 'Bag',\n",
    "    9: 'Ankle boot'}"
   ]
  },
  {
   "cell_type": "markdown",
   "metadata": {},
   "source": [
    "## Build Net Graph"
   ]
  },
  {
   "cell_type": "code",
   "execution_count": 4,
   "metadata": {},
   "outputs": [],
   "source": [
    "from utils.nn_graph import simple_layer\n",
    "from utils.nn_visualization import variable_summaries, img_summaries\n",
    "\n",
    "graph = tf.Graph()\n",
    "with graph.as_default():\n",
    "    with tf.name_scope('flat_img_net_inputs'):\n",
    "        images = tf.placeholder(tf.float32, shape=[None, 784], name='images')\n",
    "        labels = tf.placeholder(tf.float32, shape=[None, 10], name='labels')\n",
    "    \n",
    "    with tf.variable_scope('simple_layer_1'):\n",
    "        raw_prediction = simple_layer(name='layer1', input_data=images, shape=[784, 64], activation='relu')\n",
    "        \n",
    "    with tf.variable_scope('simple_layer_2'):\n",
    "        raw_prediction = simple_layer(name='layer2', input_data=raw_prediction, shape=[64, 10])\n",
    "            \n",
    "    with tf.name_scope('prediction'):\n",
    "        prediction = tf.nn.softmax(raw_prediction)\n",
    "    \n",
    "    with tf.name_scope('loss'):\n",
    "        cross_entropy_vector = tf.nn.softmax_cross_entropy_with_logits(labels=labels, logits=prediction)\n",
    "        loss = tf.reduce_mean(cross_entropy_vector)\n",
    "        variable_summaries('loss_summary', loss)\n",
    "\n",
    "    with tf.name_scope('accuracy'):\n",
    "        correct_prediction = tf.equal(tf.argmax(prediction,1), tf.argmax(labels,1))\n",
    "        correct_prediction = tf.cast(correct_prediction, tf.float32)\n",
    "        accuracy = tf.reduce_mean(correct_prediction)\n",
    "        variable_summaries('accuracy_summary', correct_prediction)       \n",
    "        \n",
    "    with tf.name_scope('training'):\n",
    "        train_step = tf.train.AdamOptimizer(0.001).minimize(loss)\n",
    "        \n",
    "    with tf.name_scope(\"embedding_visualization\"):\n",
    "        embedding = tf.Variable(tf.zeros([5000, 10]), name='valid_embedding')\n",
    "        embedding_assignment = embedding.assign(raw_prediction)\n",
    "            \n",
    "    initialize_vars = tf.global_variables_initializer()\n",
    "    merge_summaries = tf.summary.merge_all()"
   ]
  },
  {
   "cell_type": "markdown",
   "metadata": {},
   "source": [
    "## Init Model Logging"
   ]
  },
  {
   "cell_type": "code",
   "execution_count": 5,
   "metadata": {},
   "outputs": [],
   "source": [
    "from utils.data import init_model_logging\n",
    "base_dir = '/tensorboard_summaries/flat_image_net/'\n",
    "exp_name = 'experiment_visual_embedding'\n",
    "\n",
    "logging_meta = init_model_logging(base_dir, exp_name, graph=graph, remove_existing=True)"
   ]
  },
  {
   "cell_type": "markdown",
   "metadata": {},
   "source": [
    "## Data for Embedding Projection"
   ]
  },
  {
   "cell_type": "markdown",
   "metadata": {},
   "source": [
    "#### Sprite Img"
   ]
  },
  {
   "cell_type": "code",
   "execution_count": 6,
   "metadata": {},
   "outputs": [],
   "source": [
    "def get_sprite_img(images, img_shape):\n",
    "    image_cout = len(images)\n",
    "    h, w = img_shape[:2]\n",
    "    \n",
    "    rows = int(np.ceil(np.sqrt(image_cout)))\n",
    "    cols = rows\n",
    "    \n",
    "    if len(img_shape) == 3:\n",
    "        sprite_img = np.zeros([rows*h, cols*w, img_shape[2]])\n",
    "    else:\n",
    "        sprite_img = np.zeros([rows*h, cols*w])\n",
    "        \n",
    "    image_id = 0\n",
    "    for row_id in range(rows):\n",
    "        for col_id in range(cols):\n",
    "            if image_id >= image_cout:\n",
    "                if len(img_shape) == 3:\n",
    "                    sprite_img = Image.fromarray(np.uint8(sprite_img))\n",
    "                else:\n",
    "                    sprite_img = Image.fromarray(np.uint8(sprite_img * 0xFF))        \n",
    "                return sprite_img\n",
    "\n",
    "            ########################################\n",
    "            # Fill in images into the sprite image #\n",
    "            ########################################\n",
    "            image_id += 1"
   ]
  },
  {
   "cell_type": "code",
   "execution_count": 7,
   "metadata": {},
   "outputs": [
    {
     "data": {
      "image/png": "[encoded data removed]",
      "text/plain": [
       "<PIL.Image.Image image mode=L size=1988x1988 at 0x7F17917A4898>"
      ]
     },
     "execution_count": 7,
     "metadata": {},
     "output_type": "execute_result"
    }
   ],
   "source": [
    "sprite_img = get_sprite_img(data.validation.images, img_shape)\n",
    "sprite_img"
   ]
  },
  {
   "cell_type": "markdown",
   "metadata": {},
   "source": [
    "#### Label Class Names"
   ]
  },
  {
   "cell_type": "code",
   "execution_count": 8,
   "metadata": {},
   "outputs": [],
   "source": [
    "def get_label_class_names(label_class_onehots, class_id2class_name_mapping):\n",
    "    return [class_id2class_name_mapping[c_id] for c_id in np.argmax(label_class_onehots, axis=1).tolist()]"
   ]
  },
  {
   "cell_type": "code",
   "execution_count": null,
   "metadata": {},
   "outputs": [],
   "source": [
    "label_class_names = get_label_class_names(data.validation.labels, class_id2class_name_mapping)\n",
    "label_class_names"
   ]
  },
  {
   "cell_type": "markdown",
   "metadata": {},
   "source": [
    "## Add Embedding Projection"
   ]
  },
  {
   "cell_type": "code",
   "execution_count": 12,
   "metadata": {},
   "outputs": [],
   "source": [
    "sprite_img = get_sprite_img(data.validation.images, img_shape)\n",
    "label_names = get_label_class_names(data.validation.labels, class_id2class_name_mapping)"
   ]
  },
  {
   "cell_type": "code",
   "execution_count": 13,
   "metadata": {},
   "outputs": [],
   "source": [
    "from utils.nn_visualization import init_embedding_projector, init_embedding_data\n",
    "\n",
    "init_embedding_data(logging_meta['valid_writer_dir'], sprite_img, label_names)\n",
    "init_embedding_projector(logging_meta['valid_writer'], embedding, img_shape)"
   ]
  },
  {
   "cell_type": "markdown",
   "metadata": {},
   "source": [
    "## Run Net"
   ]
  },
  {
   "cell_type": "code",
   "execution_count": 14,
   "metadata": {
    "scrolled": true
   },
   "outputs": [
    {
     "name": "stdout",
     "output_type": "stream",
     "text": [
      "Iteration 0: loss 2.2896995544433594, accuracy 0.10559999942779541\n",
      "Iteration 100: loss 1.7315324544906616, accuracy 0.7648000121116638\n",
      "Iteration 200: loss 1.6745483875274658, accuracy 0.8144000172615051\n",
      "Iteration 300: loss 1.6707091331481934, accuracy 0.8087999820709229\n",
      "Iteration 400: loss 1.6426301002502441, accuracy 0.8352000117301941\n",
      "Iteration 500: loss 1.648045539855957, accuracy 0.8253999948501587\n",
      "Iteration 600: loss 1.633955717086792, accuracy 0.8366000056266785\n",
      "Iteration 700: loss 1.6345138549804688, accuracy 0.8339999914169312\n",
      "Iteration 800: loss 1.6244093179702759, accuracy 0.8450000286102295\n",
      "Iteration 900: loss 1.6298447847366333, accuracy 0.8378000259399414\n",
      "Iteration 1000: loss 1.6212213039398193, accuracy 0.8471999764442444\n",
      "Iteration 1100: loss 1.617142915725708, accuracy 0.8497999906539917\n",
      "Iteration 1200: loss 1.6183432340621948, accuracy 0.8519999980926514\n",
      "Iteration 1300: loss 1.6150462627410889, accuracy 0.8533999919891357\n",
      "Iteration 1400: loss 1.610856056213379, accuracy 0.8560000061988831\n",
      "Iteration 1500: loss 1.6113823652267456, accuracy 0.8582000136375427\n",
      "Iteration 1600: loss 1.6075681447982788, accuracy 0.8587999939918518\n",
      "Iteration 1700: loss 1.608701229095459, accuracy 0.8579999804496765\n",
      "Iteration 1800: loss 1.6041936874389648, accuracy 0.8619999885559082\n",
      "Iteration 1900: loss 1.6033854484558105, accuracy 0.8632000088691711\n",
      "Iteration 2000: loss 1.6004981994628906, accuracy 0.8633999824523926\n",
      "Iteration 2100: loss 1.6049295663833618, accuracy 0.8592000007629395\n",
      "Iteration 2200: loss 1.6007015705108643, accuracy 0.8632000088691711\n",
      "Iteration 2300: loss 1.6001275777816772, accuracy 0.8650000095367432\n",
      "Iteration 2400: loss 1.61350679397583, accuracy 0.8518000245094299\n",
      "Iteration 2500: loss 1.5999619960784912, accuracy 0.8641999959945679\n",
      "Iteration 2600: loss 1.5990228652954102, accuracy 0.8672000169754028\n",
      "Iteration 2700: loss 1.6009002923965454, accuracy 0.864799976348877\n",
      "Iteration 2800: loss 1.5987015962600708, accuracy 0.8654000163078308\n",
      "Iteration 2900: loss 1.5975956916809082, accuracy 0.8673999905586243\n",
      "Iteration 3000: loss 1.6055002212524414, accuracy 0.8593999743461609\n",
      "Iteration 3100: loss 1.5949774980545044, accuracy 0.8687999844551086\n",
      "Iteration 3200: loss 1.5963493585586548, accuracy 0.8691999912261963\n",
      "Iteration 3300: loss 1.5912845134735107, accuracy 0.8737999796867371\n",
      "Iteration 3400: loss 1.5911122560501099, accuracy 0.8726000189781189\n",
      "Iteration 3500: loss 1.600369930267334, accuracy 0.8615999817848206\n",
      "Iteration 3600: loss 1.5921841859817505, accuracy 0.8712000250816345\n",
      "Iteration 3700: loss 1.5968111753463745, accuracy 0.8664000034332275\n",
      "Iteration 3800: loss 1.590086579322815, accuracy 0.8733999729156494\n",
      "Iteration 3900: loss 1.5961159467697144, accuracy 0.8661999702453613\n",
      "Iteration 4000: loss 1.593626856803894, accuracy 0.8695999979972839\n",
      "Iteration 4100: loss 1.5897889137268066, accuracy 0.8762000203132629\n",
      "Iteration 4200: loss 1.5935715436935425, accuracy 0.8704000115394592\n",
      "Iteration 4300: loss 1.5975457429885864, accuracy 0.8673999905586243\n",
      "Iteration 4400: loss 1.5994653701782227, accuracy 0.8623999953269958\n",
      "Iteration 4500: loss 1.5894765853881836, accuracy 0.8726000189781189\n",
      "Iteration 4600: loss 1.5917158126831055, accuracy 0.870199978351593\n",
      "Iteration 4700: loss 1.5937811136245728, accuracy 0.8682000041007996\n",
      "Iteration 4800: loss 1.5901861190795898, accuracy 0.8741999864578247\n",
      "Iteration 4900: loss 1.5975244045257568, accuracy 0.8640000224113464\n",
      "Iteration 5000: loss 1.5888744592666626, accuracy 0.8745999932289124\n",
      "Iteration 5100: loss 1.5897743701934814, accuracy 0.8733999729156494\n",
      "Iteration 5200: loss 1.590668797492981, accuracy 0.871399998664856\n",
      "Iteration 5300: loss 1.5925880670547485, accuracy 0.8712000250816345\n",
      "Iteration 5400: loss 1.5998218059539795, accuracy 0.8618000149726868\n",
      "Iteration 5500: loss 1.5869778394699097, accuracy 0.875\n",
      "Iteration 5600: loss 1.590747594833374, accuracy 0.8709999918937683\n",
      "Iteration 5700: loss 1.590179204940796, accuracy 0.8722000122070312\n",
      "Iteration 5800: loss 1.5929116010665894, accuracy 0.8676000237464905\n",
      "Iteration 5900: loss 1.5838568210601807, accuracy 0.878600001335144\n",
      "Iteration 6000: loss 1.5863739252090454, accuracy 0.8781999945640564\n",
      "Iteration 6100: loss 1.592025637626648, accuracy 0.8708000183105469\n",
      "Iteration 6200: loss 1.586832046508789, accuracy 0.8773999810218811\n",
      "Iteration 6300: loss 1.5889559984207153, accuracy 0.8723999857902527\n",
      "Iteration 6400: loss 1.5853008031845093, accuracy 0.8772000074386597\n",
      "Iteration 6500: loss 1.5893644094467163, accuracy 0.8736000061035156\n",
      "Iteration 6600: loss 1.5945453643798828, accuracy 0.8679999709129333\n",
      "Iteration 6700: loss 1.5853395462036133, accuracy 0.8763999938964844\n",
      "Iteration 6800: loss 1.588921308517456, accuracy 0.8745999932289124\n",
      "Iteration 6900: loss 1.5883536338806152, accuracy 0.8737999796867371\n",
      "Iteration 7000: loss 1.5833513736724854, accuracy 0.8804000020027161\n",
      "Iteration 7100: loss 1.5862057209014893, accuracy 0.875\n",
      "Iteration 7200: loss 1.578995704650879, accuracy 0.8840000033378601\n",
      "Iteration 7300: loss 1.5853339433670044, accuracy 0.8766000270843506\n",
      "Iteration 7400: loss 1.5878535509109497, accuracy 0.8745999932289124\n",
      "Iteration 7500: loss 1.5818538665771484, accuracy 0.8790000081062317\n",
      "Iteration 7600: loss 1.5873668193817139, accuracy 0.8751999735832214\n",
      "Iteration 7700: loss 1.584519386291504, accuracy 0.8769999742507935\n",
      "Iteration 7800: loss 1.5855557918548584, accuracy 0.8769999742507935\n",
      "Iteration 7900: loss 1.5803807973861694, accuracy 0.8823999762535095\n",
      "Iteration 8000: loss 1.5904840230941772, accuracy 0.8704000115394592\n",
      "Iteration 8100: loss 1.583066463470459, accuracy 0.8787999749183655\n",
      "Iteration 8200: loss 1.5814369916915894, accuracy 0.8802000284194946\n",
      "Iteration 8300: loss 1.5816034078598022, accuracy 0.8820000290870667\n",
      "Iteration 8400: loss 1.580082654953003, accuracy 0.8817999958992004\n",
      "Iteration 8500: loss 1.582213044166565, accuracy 0.8790000081062317\n",
      "Iteration 8600: loss 1.584287166595459, accuracy 0.8794000148773193\n",
      "Iteration 8700: loss 1.5800923109054565, accuracy 0.881600022315979\n",
      "Iteration 8800: loss 1.5805621147155762, accuracy 0.8809999823570251\n",
      "Iteration 8900: loss 1.5819915533065796, accuracy 0.8794000148773193\n",
      "Iteration 9000: loss 1.581529140472412, accuracy 0.879800021648407\n",
      "Iteration 9100: loss 1.5853524208068848, accuracy 0.8751999735832214\n",
      "Iteration 9200: loss 1.5785049200057983, accuracy 0.8844000101089478\n",
      "Iteration 9300: loss 1.5830422639846802, accuracy 0.8809999823570251\n",
      "Iteration 9400: loss 1.5776195526123047, accuracy 0.8848000168800354\n",
      "Iteration 9500: loss 1.5813618898391724, accuracy 0.8794000148773193\n",
      "Iteration 9600: loss 1.585228443145752, accuracy 0.876800000667572\n",
      "Iteration 9700: loss 1.5819844007492065, accuracy 0.8795999884605408\n",
      "Iteration 9800: loss 1.580264925956726, accuracy 0.8823999762535095\n",
      "Iteration 9900: loss 1.5826514959335327, accuracy 0.8787999749183655\n"
     ]
    }
   ],
   "source": [
    "config = tf.ConfigProto(allow_soft_placement=True)\n",
    "config.gpu_options.allow_growth = True\n",
    "model_path = logging_meta['model_path']\n",
    "\n",
    "        \n",
    "with tf.Session(graph=graph, config=config) as session:\n",
    "    session.run(initialize_vars)\n",
    "    for iteration in range(10000):\n",
    "        _images, _labels = data.train.next_batch(100)\n",
    "        \n",
    "        _ = session.run([train_step], feed_dict={images: _images, labels: _labels})\n",
    "        if iteration % 10 == 0:\n",
    "            _summary, = session.run([merge_summaries],feed_dict={images: _images, labels: _labels})\n",
    "            logging_meta['train_writer'].add_summary(_summary, iteration)\n",
    "            \n",
    "        if iteration % 100 == 0:\n",
    "            _, _summary, _accuracy, _loss = session.run([embedding_assignment, merge_summaries, accuracy, loss], \n",
    "                                          feed_dict={images: data.validation.images, \n",
    "                                                     labels: data.validation.labels})\n",
    "            logging_meta['valid_writer'].add_summary(_summary, iteration)\n",
    "            logging_meta['saver'].save(session, model_path, iteration)\n",
    "            print(\"Iteration {}: loss {}, accuracy {}\".format(iteration, _loss, _accuracy))\n",
    "            \n",
    "    _prediction, = session.run([prediction], feed_dict={images: data.validation.images})"
   ]
  },
  {
   "cell_type": "code",
   "execution_count": null,
   "metadata": {},
   "outputs": [],
   "source": []
  }
 ],
 "metadata": {
  "kernelspec": {
   "display_name": "Python 3",
   "language": "python",
   "name": "python3"
  },
  "language_info": {
   "codemirror_mode": {
    "name": "ipython",
    "version": 3
   },
   "file_extension": ".py",
   "mimetype": "text/x-python",
   "name": "python",
   "nbconvert_exporter": "python",
   "pygments_lexer": "ipython3",
   "version": "3.5.2"
  }
 },
 "nbformat": 4,
 "nbformat_minor": 2
}
