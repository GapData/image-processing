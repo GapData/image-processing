{
 "cells": [
  {
   "cell_type": "markdown",
   "metadata": {},
   "source": [
    "# Resnet Finetuning on MSCOCO"
   ]
  },
  {
   "cell_type": "markdown",
   "metadata": {},
   "source": [
    "- add 2 optimizers, one for mscoco, one for top layer"
   ]
  },
  {
   "cell_type": "code",
   "execution_count": null,
   "metadata": {},
   "outputs": [],
   "source": [
    "%load_ext autoreload\n",
    "%autoreload 2\n",
    "%matplotlib inline"
   ]
  },
  {
   "cell_type": "code",
   "execution_count": null,
   "metadata": {},
   "outputs": [],
   "source": [
    "import pandas as pd\n",
    "import seaborn as sns\n",
    "import matplotlib.pyplot as plt\n",
    "import numpy as np\n",
    "import tensorflow as tf\n",
    "import pickle\n",
    "import os\n",
    "import shutil\n",
    "from tensorflow.contrib.tensorboard.plugins import projector"
   ]
  },
  {
   "cell_type": "code",
   "execution_count": null,
   "metadata": {},
   "outputs": [],
   "source": [
    "from tensorflow.contrib.slim.nets import resnet_v1\n",
    "from tensorflow.contrib import slim\n",
    "from utils.data import Dataset\n",
    "from utils.data import init_dir"
   ]
  },
  {
   "cell_type": "markdown",
   "metadata": {},
   "source": [
    "## Load data"
   ]
  },
  {
   "cell_type": "code",
   "execution_count": null,
   "metadata": {},
   "outputs": [],
   "source": [
    "class data:\n",
    "    train = Dataset('/data/mscoco/train_data.hdf', '/data/mscoco/train_imgs/', one_hot=True)\n",
    "    validation = Dataset('/data/mscoco/valid_data.hdf', '/data/mscoco/valid_imgs/', one_hot=True)\n",
    "    \n",
    "class_id2class_name_mapping = {\n",
    "    0: 'cow',\n",
    "    1: 'sheep',\n",
    "    2: 'giraffe',\n",
    "    3: 'horse',\n",
    "    4: 'bird',\n",
    "    5: 'cat',\n",
    "    6: 'dog',\n",
    "    7: 'elephant',\n",
    "    8: 'bear'}"
   ]
  },
  {
   "cell_type": "markdown",
   "metadata": {},
   "source": [
    "## Build Resnet Graph"
   ]
  },
  {
   "cell_type": "code",
   "execution_count": null,
   "metadata": {},
   "outputs": [],
   "source": [
    "from utils.nn_graph import simple_layer, variable_summaries"
   ]
  },
  {
   "cell_type": "code",
   "execution_count": null,
   "metadata": {},
   "outputs": [],
   "source": [
    "resnet_model_ckpt = '/data/checkpoints/resnet_v1_50.ckpt'\n",
    "graph = tf.Graph()\n",
    "with graph.as_default():\n",
    "    with tf.variable_scope('resnet_inputs'):\n",
    "        images = tf.placeholder(dtype=tf.float32, shape=[None, 224 * 224 * 3], name='images')\n",
    "        labels = tf.placeholder(tf.float32, shape=(None, 9), name='labels')\n",
    "        is_training = tf.placeholder(tf.bool, shape=(), name='training_flag')\n",
    "\n",
    "    with tf.name_scope('image_reshape'):        \n",
    "        images_reshaped = tf.reshape(images, [-1, 224, 224, 3])        \n",
    "\n",
    "    with slim.arg_scope(resnet_v1.resnet_arg_scope()):\n",
    "        resnet_tensors = resnet_v1.resnet_v1_50(images_reshaped,\n",
    "                                                is_training=is_training,\n",
    "                                                num_classes=None,\n",
    "                                                global_pool=True,\n",
    "                                                scope='resnet_v1_50')\n",
    "    resnet_feature_vector, resnet_endpoints = resnet_tensors\n",
    "\n",
    "    with tf.name_scope('resnet_feature_vector'):\n",
    "        resnet_feature_vector = tf.reshape(resnet_feature_vector, shape=(-1, 2048))\n",
    "\n",
    "    with tf.variable_scope('layer1'):\n",
    "        prediction_raw = resnet_feature_vector\n",
    "        prediction_raw = simple_layer('layer1', prediction_raw, shape=[2048, 9], activation='linear')\n",
    "        \n",
    "    ##################\n",
    "    # Add relu layer #\n",
    "    ##################\n",
    "\n",
    "    with tf.name_scope('prediction'):\n",
    "        prediction = tf.nn.softmax(prediction_raw)\n",
    "\n",
    "    with tf.name_scope('loss'):\n",
    "        cross_entropy_vector = tf.losses.softmax_cross_entropy(logits=prediction_raw, onehot_labels=labels)\n",
    "        variable_summaries('loss_summary', cross_entropy_vector)\n",
    "        loss = tf.reduce_mean(cross_entropy_vector)\n",
    "\n",
    "    with tf.name_scope('accuracy'):\n",
    "        correct_prediction = tf.equal(tf.argmax(prediction,1), tf.argmax(labels,1))\n",
    "        correct_prediction = tf.cast(correct_prediction, tf.float32)\n",
    "        accuracy = tf.reduce_mean(correct_prediction)\n",
    "        variable_summaries('accuracy_summary', correct_prediction)\n",
    "        \n",
    "    with tf.name_scope(\"embedding_visualization\"):\n",
    "        embedding = tf.Variable(tf.zeros([480, 2048]), name='valid_embedding')\n",
    "        embedding_assignment = embedding.assign(resnet_feature_vector)       \n",
    "    \n",
    "    with tf.name_scope('training'):\n",
    "        loss_to_optimize = loss\n",
    "        \n",
    "        var_all = tf.get_collection(tf.GraphKeys.TRAINABLE_VARIABLES)\n",
    "        var_resnet = tf.get_collection(tf.GraphKeys.TRAINABLE_VARIABLES, scope='resnet_v1_50')\n",
    "        \n",
    "        ######################################################################\n",
    "        # Prepare 2 optimizers, one with lr=0.0001 for resnet block 3 and 4, #\n",
    "        # one for layer1 and layer2 with lr=0.001                            #\n",
    "        ######################################################################\n",
    "        \n",
    "        update_ops = tf.get_collection(tf.GraphKeys.UPDATE_OPS)\n",
    "        with tf.control_dependencies(update_ops):\n",
    "            #train_step = tf.group(train_resnet, train_top)\n",
    "            train_step = tf.train.AdamOptimizer(0.0001).minimize(loss_to_optimize)\n",
    "            \n",
    "    init_resnet = slim.assign_from_checkpoint_fn(resnet_model_ckpt, slim.get_model_variables('resnet_v1_50'))\n",
    "    initialize_vars = tf.group(\n",
    "        tf.global_variables_initializer(),\n",
    "        tf.local_variables_initializer())\n",
    "    merge_summaries = tf.summary.merge_all()"
   ]
  },
  {
   "cell_type": "markdown",
   "metadata": {},
   "source": [
    "## Init Model Logging"
   ]
  },
  {
   "cell_type": "code",
   "execution_count": null,
   "metadata": {},
   "outputs": [],
   "source": [
    "from utils.data import init_model_logging\n",
    "base_dir = '/tensorboard_summaries/resnet/'\n",
    "exp_name = 'experiment_2'\n",
    "\n",
    "logging_meta = init_model_logging(base_dir, exp_name, graph=graph, remove_existing=True)"
   ]
  },
  {
   "cell_type": "markdown",
   "metadata": {},
   "source": [
    "## Add Embedding Projection"
   ]
  },
  {
   "cell_type": "code",
   "execution_count": null,
   "metadata": {},
   "outputs": [],
   "source": [
    "from utils.nn_visualization import init_embedding_projector, init_embedding_data\n",
    "from utils.nn_visualization import get_sprite_img, get_label_class_names\n",
    "projection_img_shape = [80, 80, 3]"
   ]
  },
  {
   "cell_type": "code",
   "execution_count": null,
   "metadata": {},
   "outputs": [],
   "source": [
    "data.validation.image_shape = projection_img_shape\n",
    "sprite_img = get_sprite_img(data.validation.images, projection_img_shape)\n",
    "data.validation.image_shape = [224, 224, 3]\n",
    "\n",
    "label_names = get_label_class_names(data.validation.labels, class_id2class_name_mapping)"
   ]
  },
  {
   "cell_type": "code",
   "execution_count": null,
   "metadata": {},
   "outputs": [],
   "source": [
    "init_embedding_data(logging_meta['valid_writer_dir'], sprite_img, label_names)\n",
    "init_embedding_projector(logging_meta['valid_writer'], embedding, projection_img_shape)"
   ]
  },
  {
   "cell_type": "markdown",
   "metadata": {},
   "source": [
    "## Run Resnet"
   ]
  },
  {
   "cell_type": "code",
   "execution_count": null,
   "metadata": {},
   "outputs": [],
   "source": [
    "config = tf.ConfigProto(allow_soft_placement=True)\n",
    "config.gpu_options.allow_growth = True\n",
    "model_path = logging_meta['model_path']\n",
    "\n",
    "\n",
    "validation_feed_dict = {\n",
    "    images: data.validation.images, \n",
    "    labels: data.validation.labels,\n",
    "    is_training: False}\n",
    "\n",
    "with tf.Session(graph=graph, config=config) as session:\n",
    "    session.run(initialize_vars)\n",
    "    init_resnet(session)\n",
    "    for iteration in range(5):\n",
    "        _images, _labels = data.train.next_batch(30)\n",
    "        \n",
    "        feed_dict={images: _images, \n",
    "                   labels: _labels,\n",
    "                   is_training: True}\n",
    "        _ = session.run([train_step], feed_dict)\n",
    "        \n",
    "        if iteration % 1 == 0:\n",
    "            feed_dict={images: _images, \n",
    "                       labels: _labels,\n",
    "                       is_training: False}\n",
    "            _summary,  _accuracy, _loss = session.run([merge_summaries, accuracy, loss], feed_dict)\n",
    "            print(\"Iteration Train {}: loss {}, accuracy {}\".format(iteration, _loss, _accuracy))\n",
    "            logging_meta['train_writer'].add_summary(_summary, iteration)\n",
    "            \n",
    "        if iteration > 0 and iteration % 4 == 0:\n",
    "            fetches = [embedding_assignment, merge_summaries, accuracy, loss]\n",
    "            _, _summary, _accuracy, _loss = session.run(fetches, validation_feed_dict)\n",
    "            logging_meta['valid_writer'].add_summary(_summary, iteration)\n",
    "            logging_meta['saver'].save(session, model_path, iteration)\n",
    "            print(\"Iteration {}: loss {}, accuracy {}\".format(iteration, _loss, _accuracy))\n",
    "    \n",
    "    _prediction, = session.run([prediction], validation_feed_dict)"
   ]
  },
  {
   "cell_type": "markdown",
   "metadata": {},
   "source": [
    "## Results evaluation"
   ]
  },
  {
   "cell_type": "code",
   "execution_count": null,
   "metadata": {},
   "outputs": [],
   "source": [
    "from utils.results_evaluation import get_accuracy\n",
    "from utils.results_evaluation import get_false_positives\n",
    "from utils.results_evaluation import get_info_df\n",
    "from utils.results_evaluation import get_rec_prec\n",
    "from utils.results_evaluation import plot_coocurance_matrix\n",
    "from utils.results_evaluation import plot_examples "
   ]
  },
  {
   "cell_type": "code",
   "execution_count": null,
   "metadata": {},
   "outputs": [],
   "source": [
    "df = get_info_df(data.validation.labels, _prediction, class_id2class_name_mapping, data.validation.images)"
   ]
  }
 ],
 "metadata": {
  "kernelspec": {
   "display_name": "Python 3",
   "language": "python",
   "name": "python3"
  },
  "language_info": {
   "codemirror_mode": {
    "name": "ipython",
    "version": 3
   },
   "file_extension": ".py",
   "mimetype": "text/x-python",
   "name": "python",
   "nbconvert_exporter": "python",
   "pygments_lexer": "ipython3",
   "version": "3.5.2"
  }
 },
 "nbformat": 4,
 "nbformat_minor": 2
}
