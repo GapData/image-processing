{
 "cells": [
  {
   "cell_type": "markdown",
   "metadata": {},
   "source": [
    "# Dummy Net"
   ]
  },
  {
   "cell_type": "markdown",
   "metadata": {},
   "source": [
    " - prediction only\n",
    " - check graph\n",
    " - loss function \n",
    " - add loss summaries\n",
    " - tune optimizer\n",
    " - layer_2 with new shape, initialize with zeros\n",
    " - layer_2 with constant_initializer(0.1)\n",
    " - improve steps and lr\n",
    " - add saver"
   ]
  },
  {
   "cell_type": "code",
   "execution_count": null,
   "metadata": {},
   "outputs": [],
   "source": [
    "%load_ext autoreload\n",
    "%autoreload 2\n",
    "%matplotlib inline"
   ]
  },
  {
   "cell_type": "code",
   "execution_count": null,
   "metadata": {},
   "outputs": [],
   "source": [
    "import tensorflow as tf\n",
    "import numpy as np\n",
    "import os\n",
    "import shutil\n",
    "from utils.data import init_dir"
   ]
  },
  {
   "cell_type": "markdown",
   "metadata": {},
   "source": [
    "## Build Net Graph"
   ]
  },
  {
   "cell_type": "code",
   "execution_count": null,
   "metadata": {},
   "outputs": [],
   "source": [
    "graph = tf.Graph()\n",
    "with graph.as_default():\n",
    "    with tf.name_scope('dummy_net_inputs'):\n",
    "        data = tf.placeholder(tf.float32, shape=[None, 3], name='data')\n",
    "        labels = tf.placeholder(tf.float32, shape=[None, 1], name='labels')\n",
    "    \n",
    "    with tf.variable_scope('layer_1'):\n",
    "        w = tf.get_variable('w', initializer=tf.constant_initializer(0), shape=[3,2])\n",
    "        prediction = tf.matmul(data, w)\n",
    "    \n",
    "    with tf.variable_scope('layer_2'):\n",
    "        w = tf.get_variable('w', initializer=tf.constant_initializer(0.1), shape=[2,1])\n",
    "        prediction = tf.matmul(prediction, w)\n",
    "    \n",
    "    with tf.name_scope('loss'):\n",
    "        loss = tf.losses.mean_squared_error(labels, prediction)\n",
    "        tf.summary.scalar('loss_summary', loss)\n",
    "\n",
    "    with tf.name_scope('training'):\n",
    "        train_step = tf.train.GradientDescentOptimizer(0.005).minimize(loss)\n",
    "\n",
    "    initialize_vars = tf.global_variables_initializer()\n",
    "    merge_summaries = tf.summary.merge_all()"
   ]
  },
  {
   "cell_type": "markdown",
   "metadata": {},
   "source": [
    "## Init Direcotory Structure"
   ]
  },
  {
   "cell_type": "code",
   "execution_count": null,
   "metadata": {},
   "outputs": [],
   "source": [
    "base_dir = '/tensorboard_summaries/dummy_net/'"
   ]
  },
  {
   "cell_type": "markdown",
   "metadata": {},
   "source": [
    "#### Init Experiment Dir"
   ]
  },
  {
   "cell_type": "code",
   "execution_count": null,
   "metadata": {},
   "outputs": [],
   "source": [
    "exp_name = 'experiment_1'\n",
    "exp_dir = init_dir(base_dir, exp_name, remove_existing=True)"
   ]
  },
  {
   "cell_type": "markdown",
   "metadata": {},
   "source": [
    "#### Init Checkpoint Path"
   ]
  },
  {
   "cell_type": "code",
   "execution_count": null,
   "metadata": {},
   "outputs": [],
   "source": [
    "model_path = os.path.join(exp_dir, 'model.ckpt')"
   ]
  },
  {
   "cell_type": "markdown",
   "metadata": {},
   "source": [
    "## Init Saver and Logger"
   ]
  },
  {
   "cell_type": "code",
   "execution_count": null,
   "metadata": {},
   "outputs": [],
   "source": [
    "with graph.as_default():\n",
    "    saver = tf.train.Saver()\n",
    "file_writer = tf.summary.FileWriter(exp_dir, graph)"
   ]
  },
  {
   "cell_type": "markdown",
   "metadata": {},
   "source": [
    "## Run net"
   ]
  },
  {
   "cell_type": "code",
   "execution_count": null,
   "metadata": {
    "scrolled": true
   },
   "outputs": [],
   "source": [
    "config = tf.ConfigProto(allow_soft_placement=True)\n",
    "config.gpu_options.allow_growth = True\n",
    "\n",
    "_data = np.array([[1,2,3]])\n",
    "_labels = np.array([[5]])\n",
    "\n",
    "with tf.Session(graph=graph, config=config) as session:\n",
    "    session.run(initialize_vars)\n",
    "    #saver.restore(session, model_path)\n",
    "    \n",
    "    for iteration in range(1000):\n",
    "        feed_dict = {\n",
    "            data: _data, \n",
    "            labels: _labels\n",
    "        }\n",
    "        fetches = [train_step, prediction, loss, merge_summaries]\n",
    "        \n",
    "        _, _prediction, _loss, _summary = session.run(fetches, feed_dict)\n",
    "        file_writer.add_summary(_summary, iteration)\n",
    "        \n",
    "        print(\"Iteration {}: loss {}, pred {}\".format(iteration, _loss, _prediction[0][0]))\n",
    "    saver.save(session, model_path)"
   ]
  },
  {
   "cell_type": "code",
   "execution_count": null,
   "metadata": {},
   "outputs": [],
   "source": []
  }
 ],
 "metadata": {
  "kernelspec": {
   "display_name": "Python 3",
   "language": "python",
   "name": "python3"
  },
  "language_info": {
   "codemirror_mode": {
    "name": "ipython",
    "version": 3
   },
   "file_extension": ".py",
   "mimetype": "text/x-python",
   "name": "python",
   "nbconvert_exporter": "python",
   "pygments_lexer": "ipython3",
   "version": "3.5.2"
  }
 },
 "nbformat": 4,
 "nbformat_minor": 2
}
