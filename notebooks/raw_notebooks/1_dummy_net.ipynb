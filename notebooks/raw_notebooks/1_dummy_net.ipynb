{
 "cells": [
  {
   "cell_type": "markdown",
   "metadata": {},
   "source": [
    "# Dummy Net"
   ]
  },
  {
   "cell_type": "code",
   "execution_count": 1,
   "metadata": {},
   "outputs": [],
   "source": [
    "%load_ext autoreload\n",
    "%autoreload 2\n",
    "%matplotlib inline\n",
    "\n",
    "from utils.data import init_model_logging\n",
    "import tensorflow as tf\n",
    "import numpy as np\n",
    "import pandas as pd\n",
    "import os"
   ]
  },
  {
   "cell_type": "markdown",
   "metadata": {},
   "source": [
    "## Animals Data"
   ]
  },
  {
   "cell_type": "code",
   "execution_count": 2,
   "metadata": {},
   "outputs": [],
   "source": [
    "# [fur, extinction, weight] \n",
    "animals = np.array([[1.0, 0.7, 0.9], # lion\n",
    "                    [0.8, 0.8, 1.0], # lion\n",
    "                    [0.1, 0.3, 0.2], # seal\n",
    "                    [0.0, 0.2, 0.1]  # seal\n",
    "                   ], dtype=np.float32)"
   ]
  },
  {
   "cell_type": "code",
   "execution_count": 3,
   "metadata": {},
   "outputs": [],
   "source": [
    "animal_labels = np.array(\n",
    "                [[ 1.0],  # lion\n",
    "                 [ 1.0],  # lion\n",
    "                 [-1.0],  # seal\n",
    "                 [-1.0]   # seal\n",
    "                ], dtype=np.float32)"
   ]
  },
  {
   "cell_type": "markdown",
   "metadata": {},
   "source": [
    "## Net Without Training "
   ]
  },
  {
   "cell_type": "markdown",
   "metadata": {},
   "source": [
    "### Build Graph"
   ]
  },
  {
   "cell_type": "code",
   "execution_count": 4,
   "metadata": {},
   "outputs": [],
   "source": [
    "graph = tf.Graph()\n",
    "with graph.as_default():\n",
    "    x = tf.placeholder(tf.float32, shape=[None, 3], name='x')\n",
    "    \n",
    "    w1 = tf.constant(np.array([[1, 2], [4, 5], [7, 8]], dtype=np.float32), name='w1_const')\n",
    "    h = tf.matmul(x, w1)\n",
    "\n",
    "    w2 = tf.constant(np.array([[1], [1]], dtype=np.float32), name='w2_const')\n",
    "    y = tf.matmul(h, w2)"
   ]
  },
  {
   "cell_type": "markdown",
   "metadata": {},
   "source": [
    "### Run Session"
   ]
  },
  {
   "cell_type": "code",
   "execution_count": 5,
   "metadata": {},
   "outputs": [],
   "source": [
    "session = tf.Session(graph=graph)"
   ]
  },
  {
   "cell_type": "code",
   "execution_count": 6,
   "metadata": {},
   "outputs": [
    {
     "name": "stdout",
     "output_type": "stream",
     "text": [
      "Prediction on animals:\n",
      "[[ 22.79999924]\n",
      " [ 24.60000038]\n",
      " [  6.        ]\n",
      " [  3.29999995]]\n"
     ]
    }
   ],
   "source": [
    "prediction, = session.run([y], feed_dict={x: animals})\n",
    "print('Prediction on animals:')\n",
    "print(prediction)"
   ]
  },
  {
   "cell_type": "code",
   "execution_count": 7,
   "metadata": {},
   "outputs": [],
   "source": [
    "session.close()"
   ]
  },
  {
   "cell_type": "markdown",
   "metadata": {},
   "source": [
    "## Net With Loss"
   ]
  },
  {
   "cell_type": "markdown",
   "metadata": {},
   "source": [
    "### Build Graph"
   ]
  },
  {
   "cell_type": "code",
   "execution_count": 8,
   "metadata": {},
   "outputs": [],
   "source": [
    "graph = tf.Graph()\n",
    "with graph.as_default():\n",
    "    x = tf.placeholder(tf.float32, shape=[None, 3], name='x')\n",
    "    label = tf.placeholder(tf.float32, shape=[None, 1], name='label')\n",
    "    \n",
    "    w1 = tf.constant(np.array([[1, 2], [4, 5], [7, 8]], dtype=np.float32), name='w1_const')\n",
    "    h = tf.matmul(x, w1)\n",
    "\n",
    "    w2 = tf.constant(np.array([[1], [1]], dtype=np.float32), name='w2_const')\n",
    "    y = tf.matmul(h, w2)\n",
    "    \n",
    "    loss = tf.losses.mean_squared_error(label, y)"
   ]
  },
  {
   "cell_type": "markdown",
   "metadata": {},
   "source": [
    "### Run Session"
   ]
  },
  {
   "cell_type": "code",
   "execution_count": 9,
   "metadata": {},
   "outputs": [],
   "source": [
    "session = tf.Session(graph=graph)"
   ]
  },
  {
   "cell_type": "code",
   "execution_count": 10,
   "metadata": {},
   "outputs": [
    {
     "name": "stdout",
     "output_type": "stream",
     "text": [
      "Loss: 274.92\n"
     ]
    }
   ],
   "source": [
    "loss_on_animal_data, = session.run([loss], feed_dict={x: animals, label: animal_labels})\n",
    "print('Loss: {0:.2f}'.format(loss_on_animal_data))"
   ]
  },
  {
   "cell_type": "code",
   "execution_count": 11,
   "metadata": {},
   "outputs": [],
   "source": [
    "session.close()"
   ]
  },
  {
   "cell_type": "markdown",
   "metadata": {},
   "source": [
    "## Net With Trainable Variables"
   ]
  },
  {
   "cell_type": "markdown",
   "metadata": {},
   "source": [
    "### Build Graph"
   ]
  },
  {
   "cell_type": "code",
   "execution_count": 12,
   "metadata": {},
   "outputs": [],
   "source": [
    "graph = tf.Graph()\n",
    "with graph.as_default():\n",
    "    x = tf.placeholder(tf.float32, shape=[None, 3], name='x')\n",
    "    label = tf.placeholder(tf.float32, shape=[None, 1], name='label')\n",
    "    \n",
    "    w1 = tf.get_variable('w1', initializer=tf.truncated_normal(shape=[3,2], stddev=0.1))\n",
    "    h = tf.matmul(x, w1)\n",
    "\n",
    "    w2 = tf.get_variable('w2', initializer=tf.truncated_normal(shape=[2,1], stddev=0.1))\n",
    "    y = tf.matmul(h, w2)\n",
    "    \n",
    "    loss = tf.losses.mean_squared_error(label, y)\n",
    "    initialize_vars = tf.global_variables_initializer()"
   ]
  },
  {
   "cell_type": "markdown",
   "metadata": {},
   "source": [
    "### Run Session"
   ]
  },
  {
   "cell_type": "code",
   "execution_count": 13,
   "metadata": {},
   "outputs": [],
   "source": [
    "session = tf.Session(graph=graph)"
   ]
  },
  {
   "cell_type": "code",
   "execution_count": 14,
   "metadata": {},
   "outputs": [
    {
     "name": "stdout",
     "output_type": "stream",
     "text": [
      "w1:\n",
      "[[ 0.10959081 -0.13871621]\n",
      " [ 0.05815202 -0.01618201]\n",
      " [ 0.05937244 -0.11505231]]\n",
      "w2:\n",
      "[[ 0.01594922]\n",
      " [-0.03459523]]\n"
     ]
    }
   ],
   "source": [
    "session.run(initialize_vars)\n",
    "w1_values, w2_values = session.run([w1, w2], feed_dict={x: animals, label: animal_labels})\n",
    "print('w1:')\n",
    "print(w1_values)\n",
    "print('w2:')\n",
    "print(w2_values)"
   ]
  },
  {
   "cell_type": "code",
   "execution_count": null,
   "metadata": {},
   "outputs": [],
   "source": [
    "session.close()"
   ]
  },
  {
   "cell_type": "markdown",
   "metadata": {},
   "source": [
    "## Net With Train Step"
   ]
  },
  {
   "cell_type": "markdown",
   "metadata": {},
   "source": [
    "### Build Graph"
   ]
  },
  {
   "cell_type": "code",
   "execution_count": null,
   "metadata": {},
   "outputs": [],
   "source": [
    "graph = tf.Graph()\n",
    "with graph.as_default():\n",
    "    x = tf.placeholder(tf.float32, shape=[None, 3], name='x')\n",
    "    label = tf.placeholder(tf.float32, shape=[None, 1], name='label')\n",
    "    \n",
    "    w1 = tf.get_variable('w1', initializer=tf.truncated_normal(shape=[3,2], stddev=0.1))\n",
    "    h = tf.matmul(x, w1)\n",
    "\n",
    "    w2 = tf.get_variable('w2', initializer=tf.truncated_normal(shape=[2,1], stddev=0.1))\n",
    "    y = tf.matmul(h, w2)\n",
    "    \n",
    "    loss = tf.losses.mean_squared_error(label, y)\n",
    "    train_step = tf.train.GradientDescentOptimizer(learning_rate=0.01).minimize(loss)\n",
    "\n",
    "    initialize_vars = tf.global_variables_initializer()"
   ]
  },
  {
   "cell_type": "markdown",
   "metadata": {},
   "source": [
    "### Run Session"
   ]
  },
  {
   "cell_type": "code",
   "execution_count": null,
   "metadata": {},
   "outputs": [],
   "source": [
    "session = tf.Session(graph=graph)\n",
    "session.run(initialize_vars)"
   ]
  },
  {
   "cell_type": "code",
   "execution_count": null,
   "metadata": {
    "scrolled": true
   },
   "outputs": [],
   "source": [
    "for iteration in range(10001):\n",
    "    _, loss_on_animal_data = session.run([train_step, loss], feed_dict={x: animals, label: animal_labels})\n",
    "    if iteration % 500 == 0:\n",
    "        print(\"Iteration {}: loss {}\".format(iteration, loss_on_animal_data))"
   ]
  },
  {
   "cell_type": "code",
   "execution_count": null,
   "metadata": {},
   "outputs": [],
   "source": [
    "prediction = session.run(y, feed_dict={x: animals})"
   ]
  },
  {
   "cell_type": "code",
   "execution_count": null,
   "metadata": {},
   "outputs": [],
   "source": [
    "pd.DataFrame({'prediction':prediction[:,0], 'label':animal_labels[:,0]})"
   ]
  },
  {
   "cell_type": "code",
   "execution_count": null,
   "metadata": {},
   "outputs": [],
   "source": [
    "session.close()"
   ]
  }
 ],
 "metadata": {
  "kernelspec": {
   "display_name": "Python 3",
   "language": "python",
   "name": "python3"
  },
  "language_info": {
   "codemirror_mode": {
    "name": "ipython",
    "version": 3
   },
   "file_extension": ".py",
   "mimetype": "text/x-python",
   "name": "python",
   "nbconvert_exporter": "python",
   "pygments_lexer": "ipython3",
   "version": "3.5.2"
  }
 },
 "nbformat": 4,
 "nbformat_minor": 2
}
