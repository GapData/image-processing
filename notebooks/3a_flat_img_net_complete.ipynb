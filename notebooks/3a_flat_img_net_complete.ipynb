{
 "cells": [
  {
   "cell_type": "markdown",
   "metadata": {},
   "source": [
    "# Flat Image Net - Basic Graph\n"
   ]
  },
  {
   "cell_type": "markdown",
   "metadata": {},
   "source": [
    " - fix loss\n",
    " - fix optimizer\n",
    " - use train and valid\n",
    " - extend summaries\n",
    " - add relu activation\n",
    " - inspect distribution of values\n",
    " - look at predictions on valid"
   ]
  },
  {
   "cell_type": "code",
   "execution_count": 1,
   "metadata": {},
   "outputs": [],
   "source": [
    "%load_ext autoreload\n",
    "%autoreload 2\n",
    "%matplotlib inline"
   ]
  },
  {
   "cell_type": "code",
   "execution_count": 2,
   "metadata": {},
   "outputs": [],
   "source": [
    "import tensorflow as tf\n",
    "from tensorflow.examples.tutorials.mnist import input_data\n",
    "import numpy as np\n",
    "import os\n",
    "import shutil\n",
    "from utils.data import init_dir"
   ]
  },
  {
   "cell_type": "markdown",
   "metadata": {},
   "source": [
    "## Load data"
   ]
  },
  {
   "cell_type": "code",
   "execution_count": 3,
   "metadata": {},
   "outputs": [
    {
     "name": "stdout",
     "output_type": "stream",
     "text": [
      "Extracting /data/fashion/train-images-idx3-ubyte.gz\n",
      "Extracting /data/fashion/train-labels-idx1-ubyte.gz\n",
      "Extracting /data/fashion/t10k-images-idx3-ubyte.gz\n",
      "Extracting /data/fashion/t10k-labels-idx1-ubyte.gz\n"
     ]
    }
   ],
   "source": [
    "data = input_data.read_data_sets('/data/fashion/', one_hot=True)\n",
    "class_id2class_name_mapping = {\n",
    "    0: 'T-shirt/top',\n",
    "    1: 'Trouser',\n",
    "    2: 'Pullover',\n",
    "    3: 'Dress',\n",
    "    4: 'Coat',\n",
    "    5: 'Sandal',\n",
    "    6: 'Shirt',\n",
    "    7: 'Sneaker',\n",
    "    8: 'Bag',\n",
    "    9: 'Ankle boot'}"
   ]
  },
  {
   "cell_type": "markdown",
   "metadata": {},
   "source": [
    "## Basic summary functions"
   ]
  },
  {
   "cell_type": "code",
   "execution_count": 4,
   "metadata": {},
   "outputs": [],
   "source": [
    "def variable_summaries(name, var):\n",
    "    with tf.name_scope(name):\n",
    "        mean = tf.reduce_mean(var)\n",
    "        stddev = tf.sqrt(tf.reduce_mean(tf.square(var - mean)))\n",
    "\n",
    "        tf.summary.scalar('mean', mean)\n",
    "        tf.summary.scalar('stddev', stddev)\n",
    "        tf.summary.scalar('max', tf.reduce_max(var))\n",
    "        tf.summary.scalar('min', tf.reduce_min(var))\n",
    "        tf.summary.histogram('histogram', var)\n",
    "\n",
    "\n",
    "def img_summaries(name, var):\n",
    "    with tf.name_scope(name):\n",
    "        tf.summary.image(name, var)"
   ]
  },
  {
   "cell_type": "markdown",
   "metadata": {},
   "source": [
    "## Custom layer functions"
   ]
  },
  {
   "cell_type": "code",
   "execution_count": 5,
   "metadata": {},
   "outputs": [],
   "source": [
    "def simple_layer(name, input_data, shape, activation='linear'):\n",
    "    w_name = 'w_' + name\n",
    "    b_name = 'b_' + name\n",
    "    if activation == 'relu':\n",
    "        w = tf.get_variable(w_name, shape=shape, initializer=tf.contrib.layers.variance_scaling_initializer())\n",
    "    else:\n",
    "        #w = tf.get_variable('w', initializer=tf.truncated_normal(shape, stddev=0.1))\n",
    "        w = tf.get_variable(w_name, shape=shape, initializer=tf.contrib.layers.xavier_initializer())\n",
    "    bias = tf.get_variable(b_name, initializer=tf.constant_initializer(0.1), shape=shape[1])\n",
    "    \n",
    "    variable_summaries(w_name+'summary', w)\n",
    "    variable_summaries(b_name+'summary', bias)\n",
    "    \n",
    "    output_data = tf.matmul(input_data, w) + bias\n",
    "    if activation == 'relu':\n",
    "        output_data = tf.nn.relu(output_data)\n",
    "    elif activation == 'sigmoid':\n",
    "        output_data = tf.nn.sigmoid(output_data)\n",
    "    return output_data"
   ]
  },
  {
   "cell_type": "markdown",
   "metadata": {},
   "source": [
    "## Build Net Graph"
   ]
  },
  {
   "cell_type": "code",
   "execution_count": 6,
   "metadata": {},
   "outputs": [],
   "source": [
    "graph = tf.Graph()\n",
    "with graph.as_default():\n",
    "    with tf.name_scope('flat_image_net_inputs'):\n",
    "        images = tf.placeholder(tf.float32, shape=[None, 784], name='images')\n",
    "        labels = tf.placeholder(tf.float32, shape=[None, 10], name='labels')\n",
    "    \n",
    "    with tf.variable_scope('simple_layer_1'):\n",
    "        raw_prediction = simple_layer(name='layer1', input_data=images, shape=[784, 64], activation='relu')\n",
    "        \n",
    "    with tf.variable_scope('simple_layer_2'):\n",
    "        raw_prediction = simple_layer(name='layer2', input_data=raw_prediction, shape=[64, 10])\n",
    "            \n",
    "    with tf.name_scope('prediction'):\n",
    "        prediction = tf.nn.softmax(raw_prediction)\n",
    "    \n",
    "    with tf.name_scope('loss'):\n",
    "        cross_entropy_vector = tf.nn.softmax_cross_entropy_with_logits(labels=labels, logits=prediction)\n",
    "        loss = tf.reduce_mean(cross_entropy_vector)\n",
    "        variable_summaries('loss_summary', loss)\n",
    "\n",
    "    with tf.name_scope('accuracy'):\n",
    "        correct_prediction = tf.equal(tf.argmax(prediction,1), tf.argmax(labels,1))\n",
    "        correct_prediction = tf.cast(correct_prediction, tf.float32)\n",
    "        accuracy = tf.reduce_mean(correct_prediction)\n",
    "        variable_summaries('accuracy_summary', correct_prediction)       \n",
    "        \n",
    "    with tf.name_scope('training'):\n",
    "        train_step = tf.train.AdamOptimizer(0.001).minimize(loss)\n",
    "            \n",
    "    initialize_vars = tf.global_variables_initializer()\n",
    "    merge_summaries = tf.summary.merge_all()"
   ]
  },
  {
   "cell_type": "markdown",
   "metadata": {},
   "source": [
    "## Init Model Logging"
   ]
  },
  {
   "cell_type": "code",
   "execution_count": 7,
   "metadata": {},
   "outputs": [
    {
     "data": {
      "text/plain": [
       "{'model_path': '/tensorboard_summaries/flat_image_net/experiment1/valid/model.ckpt',\n",
       " 'saver': <tensorflow.python.training.saver.Saver at 0x7f8d0f786828>,\n",
       " 'train_writer': <tensorflow.python.summary.writer.writer.FileWriter at 0x7f8d0f4d0fd0>,\n",
       " 'train_writer_dir': '/tensorboard_summaries/flat_image_net/experiment1/train',\n",
       " 'valid_writer': <tensorflow.python.summary.writer.writer.FileWriter at 0x7f8d0f786a58>,\n",
       " 'valid_writer_dir': '/tensorboard_summaries/flat_image_net/experiment1/valid'}"
      ]
     },
     "execution_count": 7,
     "metadata": {},
     "output_type": "execute_result"
    }
   ],
   "source": [
    "from utils.data import init_model_logging\n",
    "base_dir = '/tensorboard_summaries/flat_image_net/'\n",
    "\n",
    "logging_meta = init_model_logging(base_dir, 'experiment1', graph=graph, remove_existing=True)\n",
    "logging_meta"
   ]
  },
  {
   "cell_type": "markdown",
   "metadata": {},
   "source": [
    "## Run Net"
   ]
  },
  {
   "cell_type": "code",
   "execution_count": 8,
   "metadata": {
    "scrolled": true
   },
   "outputs": [
    {
     "name": "stdout",
     "output_type": "stream",
     "text": [
      "Iteration 0: loss 2.2908389568328857, accuracy 0.15320000052452087\n",
      "Iteration 100: loss 1.7984511852264404, accuracy 0.6901999711990356\n",
      "Iteration 200: loss 1.7316980361938477, accuracy 0.7459999918937683\n",
      "Iteration 300: loss 1.7100551128387451, accuracy 0.7626000046730042\n",
      "Iteration 400: loss 1.7042183876037598, accuracy 0.7681999802589417\n",
      "Iteration 500: loss 1.6931500434875488, accuracy 0.7771999835968018\n",
      "Iteration 600: loss 1.6912761926651, accuracy 0.7770000100135803\n",
      "Iteration 700: loss 1.6881932020187378, accuracy 0.7797999978065491\n",
      "Iteration 800: loss 1.6856456995010376, accuracy 0.7814000248908997\n",
      "Iteration 900: loss 1.6903926134109497, accuracy 0.777999997138977\n",
      "Iteration 1000: loss 1.6791906356811523, accuracy 0.7853999733924866\n",
      "Iteration 1100: loss 1.6751341819763184, accuracy 0.7904000282287598\n",
      "Iteration 1200: loss 1.6793400049209595, accuracy 0.7850000262260437\n",
      "Iteration 1300: loss 1.6708614826202393, accuracy 0.7943999767303467\n",
      "Iteration 1400: loss 1.6683952808380127, accuracy 0.795799970626831\n",
      "Iteration 1500: loss 1.676689863204956, accuracy 0.7888000011444092\n",
      "Iteration 1600: loss 1.6790648698806763, accuracy 0.7850000262260437\n",
      "Iteration 1700: loss 1.6680608987808228, accuracy 0.7961999773979187\n",
      "Iteration 1800: loss 1.6674810647964478, accuracy 0.795199990272522\n",
      "Iteration 1900: loss 1.6655800342559814, accuracy 0.7964000105857849\n",
      "Iteration 2000: loss 1.6701706647872925, accuracy 0.7924000024795532\n",
      "Iteration 2100: loss 1.6681679487228394, accuracy 0.7955999970436096\n",
      "Iteration 2200: loss 1.6647683382034302, accuracy 0.7983999848365784\n",
      "Iteration 2300: loss 1.6692919731140137, accuracy 0.7947999835014343\n",
      "Iteration 2400: loss 1.6633228063583374, accuracy 0.7990000247955322\n",
      "Iteration 2500: loss 1.6627659797668457, accuracy 0.800000011920929\n",
      "Iteration 2600: loss 1.6644445657730103, accuracy 0.7979999780654907\n",
      "Iteration 2700: loss 1.661816954612732, accuracy 0.801800012588501\n",
      "Iteration 2800: loss 1.6575720310211182, accuracy 0.8051999807357788\n",
      "Iteration 2900: loss 1.6652277708053589, accuracy 0.7955999970436096\n",
      "Iteration 3000: loss 1.6715253591537476, accuracy 0.7906000018119812\n",
      "Iteration 3100: loss 1.662474274635315, accuracy 0.8008000254631042\n",
      "Iteration 3200: loss 1.6601316928863525, accuracy 0.8014000058174133\n",
      "Iteration 3300: loss 1.6589092016220093, accuracy 0.8023999929428101\n",
      "Iteration 3400: loss 1.661315679550171, accuracy 0.801800012588501\n",
      "Iteration 3500: loss 1.6559149026870728, accuracy 0.8064000010490417\n",
      "Iteration 3600: loss 1.6591718196868896, accuracy 0.8047999739646912\n",
      "Iteration 3700: loss 1.6572468280792236, accuracy 0.8062000274658203\n",
      "Iteration 3800: loss 1.6597437858581543, accuracy 0.8032000064849854\n",
      "Iteration 3900: loss 1.6537386178970337, accuracy 0.8082000017166138\n",
      "Iteration 4000: loss 1.657086730003357, accuracy 0.8069999814033508\n",
      "Iteration 4100: loss 1.6545418500900269, accuracy 0.8076000213623047\n",
      "Iteration 4200: loss 1.652786135673523, accuracy 0.8113999962806702\n",
      "Iteration 4300: loss 1.6563515663146973, accuracy 0.8050000071525574\n",
      "Iteration 4400: loss 1.6561830043792725, accuracy 0.8064000010490417\n",
      "Iteration 4500: loss 1.6533476114273071, accuracy 0.8100000023841858\n",
      "Iteration 4600: loss 1.6503664255142212, accuracy 0.8126000165939331\n",
      "Iteration 4700: loss 1.6499242782592773, accuracy 0.8116000294685364\n",
      "Iteration 4800: loss 1.651429533958435, accuracy 0.8080000281333923\n",
      "Iteration 4900: loss 1.652201771736145, accuracy 0.8108000159263611\n",
      "Iteration 5000: loss 1.6492620706558228, accuracy 0.8119999766349792\n",
      "Iteration 5100: loss 1.6583003997802734, accuracy 0.8050000071525574\n",
      "Iteration 5200: loss 1.6528249979019165, accuracy 0.8100000023841858\n",
      "Iteration 5300: loss 1.6625761985778809, accuracy 0.7986000180244446\n",
      "Iteration 5400: loss 1.6519781351089478, accuracy 0.8082000017166138\n",
      "Iteration 5500: loss 1.6564286947250366, accuracy 0.8059999942779541\n",
      "Iteration 5600: loss 1.6557868719100952, accuracy 0.8046000003814697\n",
      "Iteration 5700: loss 1.6511636972427368, accuracy 0.8090000152587891\n",
      "Iteration 5800: loss 1.6602847576141357, accuracy 0.8022000193595886\n",
      "Iteration 5900: loss 1.6485224962234497, accuracy 0.8131999969482422\n",
      "Iteration 6000: loss 1.6498496532440186, accuracy 0.8112000226974487\n",
      "Iteration 6100: loss 1.646573781967163, accuracy 0.8162000179290771\n",
      "Iteration 6200: loss 1.64864182472229, accuracy 0.8118000030517578\n",
      "Iteration 6300: loss 1.6565008163452148, accuracy 0.805400013923645\n",
      "Iteration 6400: loss 1.6498488187789917, accuracy 0.8101999759674072\n",
      "Iteration 6500: loss 1.648970365524292, accuracy 0.8130000233650208\n",
      "Iteration 6600: loss 1.650853157043457, accuracy 0.8112000226974487\n",
      "Iteration 6700: loss 1.6458566188812256, accuracy 0.8158000111579895\n",
      "Iteration 6800: loss 1.6551954746246338, accuracy 0.8069999814033508\n",
      "Iteration 6900: loss 1.652997612953186, accuracy 0.8082000017166138\n",
      "Iteration 7000: loss 1.6533154249191284, accuracy 0.8086000084877014\n",
      "Iteration 7100: loss 1.6453900337219238, accuracy 0.8167999982833862\n",
      "Iteration 7200: loss 1.6480149030685425, accuracy 0.8131999969482422\n",
      "Iteration 7300: loss 1.6479976177215576, accuracy 0.8131999969482422\n",
      "Iteration 7400: loss 1.647147297859192, accuracy 0.8151999711990356\n",
      "Iteration 7500: loss 1.6438385248184204, accuracy 0.8187999725341797\n",
      "Iteration 7600: loss 1.6445982456207275, accuracy 0.8184000253677368\n",
      "Iteration 7700: loss 1.644497275352478, accuracy 0.8180000185966492\n",
      "Iteration 7800: loss 1.645103096961975, accuracy 0.8166000247001648\n",
      "Iteration 7900: loss 1.643998622894287, accuracy 0.8173999786376953\n",
      "Iteration 8000: loss 1.6438339948654175, accuracy 0.8154000043869019\n",
      "Iteration 8100: loss 1.647525429725647, accuracy 0.8144000172615051\n",
      "Iteration 8200: loss 1.6428629159927368, accuracy 0.8194000124931335\n",
      "Iteration 8300: loss 1.643866777420044, accuracy 0.8167999982833862\n",
      "Iteration 8400: loss 1.6497644186019897, accuracy 0.8126000165939331\n",
      "Iteration 8500: loss 1.6474978923797607, accuracy 0.8140000104904175\n",
      "Iteration 8600: loss 1.6418261528015137, accuracy 0.8187999725341797\n",
      "Iteration 8700: loss 1.6457595825195312, accuracy 0.8155999779701233\n",
      "Iteration 8800: loss 1.6466070413589478, accuracy 0.8145999908447266\n",
      "Iteration 8900: loss 1.6461668014526367, accuracy 0.8166000247001648\n",
      "Iteration 9000: loss 1.6428749561309814, accuracy 0.8184000253677368\n",
      "Iteration 9100: loss 1.6465742588043213, accuracy 0.8148000240325928\n",
      "Iteration 9200: loss 1.6488715410232544, accuracy 0.8118000030517578\n",
      "Iteration 9300: loss 1.6445211172103882, accuracy 0.8173999786376953\n",
      "Iteration 9400: loss 1.6406317949295044, accuracy 0.8208000063896179\n",
      "Iteration 9500: loss 1.647631049156189, accuracy 0.8136000037193298\n",
      "Iteration 9600: loss 1.6430180072784424, accuracy 0.8166000247001648\n",
      "Iteration 9700: loss 1.6451878547668457, accuracy 0.8158000111579895\n",
      "Iteration 9800: loss 1.643284559249878, accuracy 0.8181999921798706\n",
      "Iteration 9900: loss 1.6429272890090942, accuracy 0.8176000118255615\n"
     ]
    }
   ],
   "source": [
    "config = tf.ConfigProto(allow_soft_placement=True)\n",
    "config.gpu_options.allow_growth = True\n",
    "model_path = logging_meta['model_path']\n",
    "        \n",
    "with tf.Session(graph=graph, config=config) as session:\n",
    "    session.run(initialize_vars)\n",
    "    for iteration in range(10000):\n",
    "        _images, _labels = data.train.next_batch(100)\n",
    "        \n",
    "        _ = session.run([train_step], feed_dict={images: _images, labels: _labels})\n",
    "        \n",
    "        if iteration % 10 == 0:\n",
    "            _summary, = session.run([merge_summaries],feed_dict={images: _images, labels: _labels})\n",
    "            logging_meta['train_writer'].add_summary(_summary, iteration)    \n",
    "        if iteration % 100 == 0:\n",
    "            _summary, _accuracy, _loss = session.run([merge_summaries, accuracy, loss], \n",
    "                                          feed_dict={images: data.validation.images, \n",
    "                                                     labels: data.validation.labels})\n",
    "            logging_meta['valid_writer'].add_summary(_summary, iteration)\n",
    "            logging_meta['saver'].save(session, model_path, iteration)\n",
    "            print(\"Iteration {}: loss {}, accuracy {}\".format(iteration, _loss, _accuracy))\n",
    "            \n",
    "    _prediction, = session.run([prediction], feed_dict={images: data.validation.images})"
   ]
  },
  {
   "cell_type": "code",
   "execution_count": 9,
   "metadata": {},
   "outputs": [
    {
     "data": {
      "text/plain": [
       "array([[  2.11483678e-30,   4.91579752e-28,   8.11237275e-32, ...,\n",
       "          4.14084897e-14,   1.78988800e-23,   1.00000000e+00],\n",
       "       [  1.00000000e+00,   1.96968322e-28,   1.37922157e-20, ...,\n",
       "          7.22811649e-36,   4.03562904e-27,   3.29136288e-33],\n",
       "       [  8.45176816e-01,   1.68802973e-04,   1.59523712e-04, ...,\n",
       "          9.51337142e-08,   2.17896790e-09,   5.41938924e-11],\n",
       "       ..., \n",
       "       [  7.17702076e-09,   2.83326158e-11,   8.49875465e-12, ...,\n",
       "          1.22373298e-04,   3.43891088e-06,   1.51997911e-05],\n",
       "       [  3.75389546e-11,   1.64705546e-15,   9.30344690e-11, ...,\n",
       "          1.71727673e-25,   1.00000000e+00,   1.11527534e-28],\n",
       "       [  2.12678492e-06,   1.22138736e-05,   2.10221046e-07, ...,\n",
       "          9.61596427e-11,   1.65536402e-08,   5.60533477e-12]], dtype=float32)"
      ]
     },
     "execution_count": 9,
     "metadata": {},
     "output_type": "execute_result"
    }
   ],
   "source": [
    "_prediction"
   ]
  },
  {
   "cell_type": "code",
   "execution_count": null,
   "metadata": {},
   "outputs": [],
   "source": []
  }
 ],
 "metadata": {
  "kernelspec": {
   "display_name": "Python 3",
   "language": "python",
   "name": "python3"
  },
  "language_info": {
   "codemirror_mode": {
    "name": "ipython",
    "version": 3
   },
   "file_extension": ".py",
   "mimetype": "text/x-python",
   "name": "python",
   "nbconvert_exporter": "python",
   "pygments_lexer": "ipython3",
   "version": "3.5.2"
  }
 },
 "nbformat": 4,
 "nbformat_minor": 2
}
