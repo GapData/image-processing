{
 "cells": [
  {
   "cell_type": "markdown",
   "metadata": {},
   "source": [
    "# Flat Image Net - Basic Graph\n"
   ]
  },
  {
   "cell_type": "code",
   "execution_count": null,
   "metadata": {},
   "outputs": [],
   "source": [
    "%load_ext autoreload\n",
    "%autoreload 2\n",
    "%matplotlib inline\n",
    "\n",
    "from utils.nn_visualization import variable_summaries, img_summaries\n",
    "from utils.data import init_model_logging\n",
    "import tensorflow as tf\n",
    "from tensorflow.examples.tutorials.mnist import input_data\n",
    "import numpy as np"
   ]
  },
  {
   "cell_type": "markdown",
   "metadata": {},
   "source": [
    "## Load data"
   ]
  },
  {
   "cell_type": "code",
   "execution_count": null,
   "metadata": {},
   "outputs": [],
   "source": [
    "data = input_data.read_data_sets('/data/fashion/', one_hot=True)\n",
    "class_id2class_name_mapping = {\n",
    "    0: 'T-shirt/top',\n",
    "    1: 'Trouser',\n",
    "    2: 'Pullover',\n",
    "    3: 'Dress',\n",
    "    4: 'Coat',\n",
    "    5: 'Sandal',\n",
    "    6: 'Shirt',\n",
    "    7: 'Sneaker',\n",
    "    8: 'Bag',\n",
    "    9: 'Ankle boot'}"
   ]
  },
  {
   "cell_type": "markdown",
   "metadata": {},
   "source": [
    "## Custom layer functions"
   ]
  },
  {
   "cell_type": "code",
   "execution_count": null,
   "metadata": {},
   "outputs": [],
   "source": [
    "def simple_layer(name, input_data, shape, activation='linear'):\n",
    "    w_name = 'w_' + name\n",
    "    b_name = 'b_' + name\n",
    "    \n",
    "    #####################################################\n",
    "    # Complete xavier and variance_scaling initializers #\n",
    "    #####################################################\n",
    "    w = tf.get_variable('w', initializer=tf.truncated_normal(shape, stddev=0.1))\n",
    "    bias = tf.get_variable(b_name, initializer=tf.constant_initializer(0), shape=shape[1])\n",
    "    \n",
    "    output_data = tf.matmul(input_data, w) + bias\n",
    "    if activation == 'sigmoid':\n",
    "        output_data = tf.nn.sigmoid(output_data)\n",
    "    ######################################\n",
    "    # Complete tanh and relu activations #\n",
    "    ######################################\n",
    "    \n",
    "    return output_data"
   ]
  },
  {
   "cell_type": "markdown",
   "metadata": {},
   "source": [
    "## Build Net Graph"
   ]
  },
  {
   "cell_type": "code",
   "execution_count": null,
   "metadata": {},
   "outputs": [],
   "source": [
    "graph = tf.Graph()\n",
    "with graph.as_default():\n",
    "    with tf.name_scope('flat_image_net_inputs'):\n",
    "        images = tf.placeholder(tf.float32, shape=[None, 784], name='images')\n",
    "        labels = tf.placeholder(tf.float32, shape=[None, 10], name='labels')\n",
    "    \n",
    "    with tf.variable_scope('simple_layer_1'):\n",
    "        #####################################################\n",
    "        # Use nonlinear activation with xavi initialization #\n",
    "        #####################################################\n",
    "        raw_prediction = simple_layer(name='layer1', input_data=images, shape=[784, 10])\n",
    "    \n",
    "    with tf.variable_scope('simple_layer_2'):\n",
    "        pass\n",
    "        #####################\n",
    "        # Add another layer #\n",
    "        #####################\n",
    "    \n",
    "        ###############\n",
    "        # Use dropout #\n",
    "        ###############\n",
    "            \n",
    "    with tf.name_scope('prediction'):\n",
    "        prediction = raw_prediction\n",
    "        ##############################################\n",
    "        # Fix prediction to probability distribution #\n",
    "        ##############################################\n",
    "    \n",
    "    with tf.name_scope('loss'):\n",
    "        #####################\n",
    "        # Fix loss function #\n",
    "        #####################\n",
    "        loss_vector = raw_prediction - labels\n",
    "        loss = tf.reduce_mean(loss_vector)\n",
    "        variable_summaries('loss_summary', loss_vector)\n",
    "\n",
    "    with tf.name_scope('accuracy'):\n",
    "        correct_prediction = tf.equal(tf.argmax(prediction,1), tf.argmax(labels,1))\n",
    "        correct_prediction = tf.cast(correct_prediction, tf.float32)\n",
    "        accuracy = tf.reduce_mean(correct_prediction)\n",
    "        variable_summaries('accuracy_summary', correct_prediction)       \n",
    "        \n",
    "    with tf.name_scope('training'):\n",
    "        ####################\n",
    "        # Change optimizer #\n",
    "        ####################\n",
    "        train_step = tf.train.GradientDescentOptimizer(0.5).minimize(loss)\n",
    "            \n",
    "    initialize_vars = tf.global_variables_initializer()\n",
    "    merge_summaries = tf.summary.merge_all()"
   ]
  },
  {
   "cell_type": "markdown",
   "metadata": {},
   "source": [
    "## Init Model Logging"
   ]
  },
  {
   "cell_type": "code",
   "execution_count": null,
   "metadata": {},
   "outputs": [],
   "source": [
    "base_dir = '/tensorboard_summaries/flat_image_net/'\n",
    "logging_meta = init_model_logging(base_dir, 'experiment1', graph=graph, remove_existing=True)"
   ]
  },
  {
   "cell_type": "markdown",
   "metadata": {},
   "source": [
    "## Debug Net"
   ]
  },
  {
   "cell_type": "code",
   "execution_count": null,
   "metadata": {},
   "outputs": [],
   "source": [
    "session = tf.Session(graph=graph)\n",
    "session.run(initialize_vars)"
   ]
  },
  {
   "cell_type": "code",
   "execution_count": null,
   "metadata": {},
   "outputs": [],
   "source": [
    "_images, _labels = data.train.next_batch(10)\n",
    "feed_dict = {images: _images, labels: _labels}\n",
    "print(\"Debug [loss_vector]:\", session.run(tf.shape(loss_vector), feed_dict))"
   ]
  },
  {
   "cell_type": "code",
   "execution_count": null,
   "metadata": {},
   "outputs": [],
   "source": [
    "session.close()"
   ]
  },
  {
   "cell_type": "markdown",
   "metadata": {},
   "source": [
    "## Run Net"
   ]
  },
  {
   "cell_type": "code",
   "execution_count": null,
   "metadata": {
    "scrolled": true
   },
   "outputs": [],
   "source": [
    "config = tf.ConfigProto(allow_soft_placement=True)\n",
    "config.gpu_options.allow_growth = True\n",
    "model_path = logging_meta['model_path']\n",
    "        \n",
    "with tf.Session(graph=graph, config=config) as session:\n",
    "    session.run(initialize_vars)\n",
    "    for iteration in range(5001):\n",
    "        ##################\n",
    "        # Training phase #\n",
    "        ##################\n",
    "        _images, _labels = data.train.next_batch(100)\n",
    "        _train_step = session.run([train_step], feed_dict={images: _images, labels: _labels})\n",
    "        \n",
    "        \n",
    "        #################\n",
    "        # Logging phase #\n",
    "        #################\n",
    "        # Train #\n",
    "        #########\n",
    "        if iteration % 10 == 0:\n",
    "            _summary, _accuracy, _loss = session.run([merge_summaries, accuracy, loss],\n",
    "                feed_dict={images: _images, labels: _labels})\n",
    "            \n",
    "            print(\"Train Iteration {}: loss {}, accuracy {}\".format(iteration, _loss, _accuracy))\n",
    "            logging_meta['train_writer'].add_summary(_summary, iteration)\n",
    "        #########\n",
    "        # Valid #\n",
    "        #########\n",
    "        if iteration % 100 == 0:\n",
    "            _summary, _accuracy, _loss = session.run([merge_summaries, accuracy, loss], \n",
    "                feed_dict={images: data.validation.images, labels: data.validation.labels})\n",
    "            \n",
    "            print(\"= Valid Iteration {}: loss {}, accuracy {} =\".format(iteration, _loss, _accuracy))\n",
    "            logging_meta['valid_writer'].add_summary(_summary, iteration)\n",
    "            logging_meta['saver'].save(session, model_path, iteration)\n",
    "            \n",
    "    _prediction, = session.run([prediction], feed_dict={images: data.validation.images})"
   ]
  },
  {
   "cell_type": "code",
   "execution_count": null,
   "metadata": {},
   "outputs": [],
   "source": [
    "_prediction"
   ]
  },
  {
   "cell_type": "markdown",
   "metadata": {},
   "source": [
    "## Results evaluation"
   ]
  },
  {
   "cell_type": "code",
   "execution_count": null,
   "metadata": {},
   "outputs": [],
   "source": [
    "from utils.results_evaluation import get_info_df\n",
    "from utils.results_evaluation import plot_examples"
   ]
  },
  {
   "cell_type": "markdown",
   "metadata": {},
   "source": [
    "### Load reuslts to pandas df"
   ]
  },
  {
   "cell_type": "code",
   "execution_count": null,
   "metadata": {},
   "outputs": [],
   "source": [
    "df = get_info_df(data.validation.labels, _prediction, class_id2class_name_mapping, images=data.validation.images)\n",
    "df"
   ]
  },
  {
   "cell_type": "code",
   "execution_count": null,
   "metadata": {},
   "outputs": [],
   "source": [
    "df[df.label_class_name=='Dress'].label_class_score.hist()"
   ]
  },
  {
   "cell_type": "code",
   "execution_count": null,
   "metadata": {},
   "outputs": [],
   "source": [
    "plot_examples(df.iloc[:25])"
   ]
  },
  {
   "cell_type": "markdown",
   "metadata": {},
   "source": [
    "### Precision"
   ]
  },
  {
   "cell_type": "code",
   "execution_count": null,
   "metadata": {},
   "outputs": [],
   "source": [
    "from utils.results_evaluation import get_precision"
   ]
  },
  {
   "cell_type": "code",
   "execution_count": null,
   "metadata": {},
   "outputs": [],
   "source": [
    "get_precision(df, 'Dress')"
   ]
  },
  {
   "cell_type": "markdown",
   "metadata": {},
   "source": [
    "### Recall"
   ]
  },
  {
   "cell_type": "code",
   "execution_count": null,
   "metadata": {},
   "outputs": [],
   "source": [
    "from utils.results_evaluation import get_recall"
   ]
  },
  {
   "cell_type": "code",
   "execution_count": null,
   "metadata": {},
   "outputs": [],
   "source": [
    "get_recall(df, 'Dress')"
   ]
  },
  {
   "cell_type": "markdown",
   "metadata": {},
   "source": [
    "### Overall Recall and Precision"
   ]
  },
  {
   "cell_type": "code",
   "execution_count": null,
   "metadata": {},
   "outputs": [],
   "source": [
    "from utils.results_evaluation import get_rec_prec"
   ]
  },
  {
   "cell_type": "code",
   "execution_count": null,
   "metadata": {},
   "outputs": [],
   "source": [
    "get_rec_prec(df, class_id2class_name_mapping)"
   ]
  },
  {
   "cell_type": "markdown",
   "metadata": {},
   "source": [
    "### Accuracy"
   ]
  },
  {
   "cell_type": "code",
   "execution_count": null,
   "metadata": {},
   "outputs": [],
   "source": [
    "from utils.results_evaluation import get_accuracy"
   ]
  },
  {
   "cell_type": "code",
   "execution_count": null,
   "metadata": {},
   "outputs": [],
   "source": [
    "get_accuracy(df, use_top3=False)"
   ]
  },
  {
   "cell_type": "markdown",
   "metadata": {},
   "source": [
    "### False Positives"
   ]
  },
  {
   "cell_type": "code",
   "execution_count": null,
   "metadata": {},
   "outputs": [],
   "source": [
    "from utils.results_evaluation import get_false_positives"
   ]
  },
  {
   "cell_type": "code",
   "execution_count": null,
   "metadata": {},
   "outputs": [],
   "source": [
    "fp = get_false_positives(df, label_class_name='Shirt')"
   ]
  },
  {
   "cell_type": "code",
   "execution_count": null,
   "metadata": {},
   "outputs": [],
   "source": [
    "plot_examples(fp)"
   ]
  },
  {
   "cell_type": "code",
   "execution_count": null,
   "metadata": {},
   "outputs": [],
   "source": [
    "fp = get_false_positives(df, label_class_name='Shirt', predicted_class_name='Pullover')"
   ]
  },
  {
   "cell_type": "code",
   "execution_count": null,
   "metadata": {},
   "outputs": [],
   "source": [
    "plot_examples(fp)"
   ]
  },
  {
   "cell_type": "markdown",
   "metadata": {},
   "source": [
    "### Confusion Matrix"
   ]
  },
  {
   "cell_type": "code",
   "execution_count": null,
   "metadata": {},
   "outputs": [],
   "source": [
    "from utils.results_evaluation import plot_coocurance_matrix"
   ]
  },
  {
   "cell_type": "code",
   "execution_count": null,
   "metadata": {},
   "outputs": [],
   "source": [
    "plot_coocurance_matrix(df, use_log=False, use_top3=False)"
   ]
  }
 ],
 "metadata": {
  "kernelspec": {
   "display_name": "Python 3",
   "language": "python",
   "name": "python3"
  },
  "language_info": {
   "codemirror_mode": {
    "name": "ipython",
    "version": 3
   },
   "file_extension": ".py",
   "mimetype": "text/x-python",
   "name": "python",
   "nbconvert_exporter": "python",
   "pygments_lexer": "ipython3",
   "version": "3.5.2"
  }
 },
 "nbformat": 4,
 "nbformat_minor": 2
}
